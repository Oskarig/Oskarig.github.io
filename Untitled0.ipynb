{
  "nbformat": 4,
  "nbformat_minor": 0,
  "metadata": {
    "colab": {
      "provenance": [],
      "authorship_tag": "ABX9TyPukKF+gJqco/NLt2J65o0v",
      "include_colab_link": true
    },
    "kernelspec": {
      "name": "python3",
      "display_name": "Python 3"
    },
    "language_info": {
      "name": "python"
    }
  },
  "cells": [
    {
      "cell_type": "markdown",
      "metadata": {
        "id": "view-in-github",
        "colab_type": "text"
      },
      "source": [
        "<a href=\"https://colab.research.google.com/github/Oskarig/Oskarig.github.io/blob/master/Untitled0.ipynb\" target=\"_parent\"><img src=\"https://colab.research.google.com/assets/colab-badge.svg\" alt=\"Open In Colab\"/></a>"
      ]
    },
    {
      "cell_type": "code",
      "execution_count": 6,
      "metadata": {
        "colab": {
          "base_uri": "https://localhost:8080/"
        },
        "id": "BkPUZFFBqwSU",
        "outputId": "42ac4637-0165-45ff-a61c-e16eaac91a1a"
      },
      "outputs": [
        {
          "output_type": "stream",
          "name": "stdout",
          "text": [
            "\"python is very easy.\"he says.\n"
          ]
        }
      ],
      "source": [
        "food='python\\'s favorite food is perl'\n",
        "\n",
        "#print(food)\n",
        "\n",
        "say=\"\\\"python is very easy.\\\"he says.\"\n",
        "\n",
        "print(say)\n",
        "\n",
        "\n"
      ]
    },
    {
      "cell_type": "code",
      "source": [
        "multiline=\"life is too \\n you need python\"\n",
        "#print(multiline)\n",
        "\n",
        "multiline2=\"\"\"life\n",
        "is\n",
        " too\n",
        " you\n",
        " need\n",
        " python\"\"\"\n",
        "\n",
        "\n",
        "print(multiline2)"
      ],
      "metadata": {
        "colab": {
          "base_uri": "https://localhost:8080/"
        },
        "id": "u3C-PD2Br3b3",
        "outputId": "b2b3095d-e2e8-40f3-98c9-fb22d6315cb3"
      },
      "execution_count": 14,
      "outputs": [
        {
          "output_type": "stream",
          "name": "stdout",
          "text": [
            "life \n",
            "is\n",
            " too \n",
            " you \n",
            " need \n",
            " python\n"
          ]
        }
      ]
    },
    {
      "cell_type": "code",
      "source": [],
      "metadata": {
        "id": "Eo3G5gbpsTH4"
      },
      "execution_count": null,
      "outputs": []
    }
  ]
}